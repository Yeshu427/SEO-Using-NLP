{
  "cells": [
    {
      "cell_type": "code",
      "execution_count": 1,
      "metadata": {
        "colab": {
          "base_uri": "https://localhost:8080/"
        },
        "id": "5SQ3EcNMlgbj",
        "outputId": "5a5144e8-2592-4566-c5e2-90ca662c8dbe"
      },
      "outputs": [
        {
          "output_type": "stream",
          "name": "stdout",
          "text": [
            "\u001b[2K     \u001b[90m━━━━━━━━━━━━━━━━━━━━━━━━━━━━━━━━━━━━━━━━\u001b[0m \u001b[32m8.4/8.4 MB\u001b[0m \u001b[31m27.6 MB/s\u001b[0m eta \u001b[36m0:00:00\u001b[0m\n",
            "\u001b[2K     \u001b[90m━━━━━━━━━━━━━━━━━━━━━━━━━━━━━━━━━━━━━━━━\u001b[0m \u001b[32m190.6/190.6 kB\u001b[0m \u001b[31m18.4 MB/s\u001b[0m eta \u001b[36m0:00:00\u001b[0m\n",
            "\u001b[2K     \u001b[90m━━━━━━━━━━━━━━━━━━━━━━━━━━━━━━━━━━━━━━━━\u001b[0m \u001b[32m4.8/4.8 MB\u001b[0m \u001b[31m55.6 MB/s\u001b[0m eta \u001b[36m0:00:00\u001b[0m\n",
            "\u001b[2K     \u001b[90m━━━━━━━━━━━━━━━━━━━━━━━━━━━━━━━━━━━━━━━━\u001b[0m \u001b[32m82.1/82.1 kB\u001b[0m \u001b[31m8.0 MB/s\u001b[0m eta \u001b[36m0:00:00\u001b[0m\n",
            "\u001b[2K     \u001b[90m━━━━━━━━━━━━━━━━━━━━━━━━━━━━━━━━━━━━━━━━\u001b[0m \u001b[32m62.7/62.7 kB\u001b[0m \u001b[31m4.4 MB/s\u001b[0m eta \u001b[36m0:00:00\u001b[0m\n",
            "\u001b[?25hCollecting streamlit-authenticator\n",
            "  Downloading streamlit-authenticator-0.2.3.tar.gz (12 kB)\n",
            "  Preparing metadata (setup.py) ... \u001b[?25l\u001b[?25hdone\n",
            "Requirement already satisfied: PyJWT>=2.3.0 in /usr/lib/python3/dist-packages (from streamlit-authenticator) (2.3.0)\n",
            "Collecting bcrypt>=3.1.7 (from streamlit-authenticator)\n",
            "  Downloading bcrypt-4.1.1-cp37-abi3-manylinux_2_28_x86_64.whl (699 kB)\n",
            "\u001b[2K     \u001b[90m━━━━━━━━━━━━━━━━━━━━━━━━━━━━━━━━━━━━━━━━\u001b[0m \u001b[32m699.4/699.4 kB\u001b[0m \u001b[31m5.5 MB/s\u001b[0m eta \u001b[36m0:00:00\u001b[0m\n",
            "\u001b[?25hRequirement already satisfied: PyYAML>=5.3.1 in /usr/local/lib/python3.10/dist-packages (from streamlit-authenticator) (6.0.1)\n",
            "Requirement already satisfied: streamlit>=1.18.0 in /usr/local/lib/python3.10/dist-packages (from streamlit-authenticator) (1.28.2)\n",
            "Collecting extra-streamlit-components>=0.1.60 (from streamlit-authenticator)\n",
            "  Downloading extra_streamlit_components-0.1.60-py3-none-any.whl (4.9 MB)\n",
            "\u001b[2K     \u001b[90m━━━━━━━━━━━━━━━━━━━━━━━━━━━━━━━━━━━━━━━━\u001b[0m \u001b[32m4.9/4.9 MB\u001b[0m \u001b[31m14.3 MB/s\u001b[0m eta \u001b[36m0:00:00\u001b[0m\n",
            "\u001b[?25hRequirement already satisfied: altair<6,>=4.0 in /usr/local/lib/python3.10/dist-packages (from streamlit>=1.18.0->streamlit-authenticator) (4.2.2)\n",
            "Requirement already satisfied: blinker<2,>=1.0.0 in /usr/lib/python3/dist-packages (from streamlit>=1.18.0->streamlit-authenticator) (1.4)\n",
            "Requirement already satisfied: cachetools<6,>=4.0 in /usr/local/lib/python3.10/dist-packages (from streamlit>=1.18.0->streamlit-authenticator) (5.3.2)\n",
            "Requirement already satisfied: click<9,>=7.0 in /usr/local/lib/python3.10/dist-packages (from streamlit>=1.18.0->streamlit-authenticator) (8.1.7)\n",
            "Requirement already satisfied: importlib-metadata<7,>=1.4 in /usr/local/lib/python3.10/dist-packages (from streamlit>=1.18.0->streamlit-authenticator) (6.8.0)\n",
            "Requirement already satisfied: numpy<2,>=1.19.3 in /usr/local/lib/python3.10/dist-packages (from streamlit>=1.18.0->streamlit-authenticator) (1.23.5)\n",
            "Requirement already satisfied: packaging<24,>=16.8 in /usr/local/lib/python3.10/dist-packages (from streamlit>=1.18.0->streamlit-authenticator) (23.2)\n",
            "Requirement already satisfied: pandas<3,>=1.3.0 in /usr/local/lib/python3.10/dist-packages (from streamlit>=1.18.0->streamlit-authenticator) (1.5.3)\n",
            "Requirement already satisfied: pillow<11,>=7.1.0 in /usr/local/lib/python3.10/dist-packages (from streamlit>=1.18.0->streamlit-authenticator) (9.4.0)\n",
            "Requirement already satisfied: protobuf<5,>=3.20 in /usr/local/lib/python3.10/dist-packages (from streamlit>=1.18.0->streamlit-authenticator) (3.20.3)\n",
            "Requirement already satisfied: pyarrow>=6.0 in /usr/local/lib/python3.10/dist-packages (from streamlit>=1.18.0->streamlit-authenticator) (9.0.0)\n",
            "Requirement already satisfied: python-dateutil<3,>=2.7.3 in /usr/local/lib/python3.10/dist-packages (from streamlit>=1.18.0->streamlit-authenticator) (2.8.2)\n",
            "Requirement already satisfied: requests<3,>=2.27 in /usr/local/lib/python3.10/dist-packages (from streamlit>=1.18.0->streamlit-authenticator) (2.31.0)\n",
            "Requirement already satisfied: rich<14,>=10.14.0 in /usr/local/lib/python3.10/dist-packages (from streamlit>=1.18.0->streamlit-authenticator) (13.7.0)\n",
            "Requirement already satisfied: tenacity<9,>=8.1.0 in /usr/local/lib/python3.10/dist-packages (from streamlit>=1.18.0->streamlit-authenticator) (8.2.3)\n",
            "Requirement already satisfied: toml<2,>=0.10.1 in /usr/local/lib/python3.10/dist-packages (from streamlit>=1.18.0->streamlit-authenticator) (0.10.2)\n",
            "Requirement already satisfied: typing-extensions<5,>=4.3.0 in /usr/local/lib/python3.10/dist-packages (from streamlit>=1.18.0->streamlit-authenticator) (4.5.0)\n",
            "Requirement already satisfied: tzlocal<6,>=1.1 in /usr/local/lib/python3.10/dist-packages (from streamlit>=1.18.0->streamlit-authenticator) (5.2)\n",
            "Requirement already satisfied: validators<1,>=0.2 in /usr/local/lib/python3.10/dist-packages (from streamlit>=1.18.0->streamlit-authenticator) (0.22.0)\n",
            "Requirement already satisfied: gitpython!=3.1.19,<4,>=3.0.7 in /usr/local/lib/python3.10/dist-packages (from streamlit>=1.18.0->streamlit-authenticator) (3.1.40)\n",
            "Requirement already satisfied: pydeck<1,>=0.8.0b4 in /usr/local/lib/python3.10/dist-packages (from streamlit>=1.18.0->streamlit-authenticator) (0.8.1b0)\n",
            "Requirement already satisfied: tornado<7,>=6.0.3 in /usr/local/lib/python3.10/dist-packages (from streamlit>=1.18.0->streamlit-authenticator) (6.3.2)\n",
            "Requirement already satisfied: watchdog>=2.1.5 in /usr/local/lib/python3.10/dist-packages (from streamlit>=1.18.0->streamlit-authenticator) (3.0.0)\n",
            "Requirement already satisfied: entrypoints in /usr/local/lib/python3.10/dist-packages (from altair<6,>=4.0->streamlit>=1.18.0->streamlit-authenticator) (0.4)\n",
            "Requirement already satisfied: jinja2 in /usr/local/lib/python3.10/dist-packages (from altair<6,>=4.0->streamlit>=1.18.0->streamlit-authenticator) (3.1.2)\n",
            "Requirement already satisfied: jsonschema>=3.0 in /usr/local/lib/python3.10/dist-packages (from altair<6,>=4.0->streamlit>=1.18.0->streamlit-authenticator) (4.19.2)\n",
            "Requirement already satisfied: toolz in /usr/local/lib/python3.10/dist-packages (from altair<6,>=4.0->streamlit>=1.18.0->streamlit-authenticator) (0.12.0)\n",
            "Requirement already satisfied: gitdb<5,>=4.0.1 in /usr/local/lib/python3.10/dist-packages (from gitpython!=3.1.19,<4,>=3.0.7->streamlit>=1.18.0->streamlit-authenticator) (4.0.11)\n",
            "Requirement already satisfied: zipp>=0.5 in /usr/local/lib/python3.10/dist-packages (from importlib-metadata<7,>=1.4->streamlit>=1.18.0->streamlit-authenticator) (3.17.0)\n",
            "Requirement already satisfied: pytz>=2020.1 in /usr/local/lib/python3.10/dist-packages (from pandas<3,>=1.3.0->streamlit>=1.18.0->streamlit-authenticator) (2023.3.post1)\n",
            "Requirement already satisfied: six>=1.5 in /usr/local/lib/python3.10/dist-packages (from python-dateutil<3,>=2.7.3->streamlit>=1.18.0->streamlit-authenticator) (1.16.0)\n",
            "Requirement already satisfied: charset-normalizer<4,>=2 in /usr/local/lib/python3.10/dist-packages (from requests<3,>=2.27->streamlit>=1.18.0->streamlit-authenticator) (3.3.2)\n",
            "Requirement already satisfied: idna<4,>=2.5 in /usr/local/lib/python3.10/dist-packages (from requests<3,>=2.27->streamlit>=1.18.0->streamlit-authenticator) (3.4)\n",
            "Requirement already satisfied: urllib3<3,>=1.21.1 in /usr/local/lib/python3.10/dist-packages (from requests<3,>=2.27->streamlit>=1.18.0->streamlit-authenticator) (2.0.7)\n",
            "Requirement already satisfied: certifi>=2017.4.17 in /usr/local/lib/python3.10/dist-packages (from requests<3,>=2.27->streamlit>=1.18.0->streamlit-authenticator) (2023.7.22)\n",
            "Requirement already satisfied: markdown-it-py>=2.2.0 in /usr/local/lib/python3.10/dist-packages (from rich<14,>=10.14.0->streamlit>=1.18.0->streamlit-authenticator) (3.0.0)\n",
            "Requirement already satisfied: pygments<3.0.0,>=2.13.0 in /usr/local/lib/python3.10/dist-packages (from rich<14,>=10.14.0->streamlit>=1.18.0->streamlit-authenticator) (2.16.1)\n",
            "Requirement already satisfied: smmap<6,>=3.0.1 in /usr/local/lib/python3.10/dist-packages (from gitdb<5,>=4.0.1->gitpython!=3.1.19,<4,>=3.0.7->streamlit>=1.18.0->streamlit-authenticator) (5.0.1)\n",
            "Requirement already satisfied: MarkupSafe>=2.0 in /usr/local/lib/python3.10/dist-packages (from jinja2->altair<6,>=4.0->streamlit>=1.18.0->streamlit-authenticator) (2.1.3)\n",
            "Requirement already satisfied: attrs>=22.2.0 in /usr/local/lib/python3.10/dist-packages (from jsonschema>=3.0->altair<6,>=4.0->streamlit>=1.18.0->streamlit-authenticator) (23.1.0)\n",
            "Requirement already satisfied: jsonschema-specifications>=2023.03.6 in /usr/local/lib/python3.10/dist-packages (from jsonschema>=3.0->altair<6,>=4.0->streamlit>=1.18.0->streamlit-authenticator) (2023.11.1)\n",
            "Requirement already satisfied: referencing>=0.28.4 in /usr/local/lib/python3.10/dist-packages (from jsonschema>=3.0->altair<6,>=4.0->streamlit>=1.18.0->streamlit-authenticator) (0.31.0)\n",
            "Requirement already satisfied: rpds-py>=0.7.1 in /usr/local/lib/python3.10/dist-packages (from jsonschema>=3.0->altair<6,>=4.0->streamlit>=1.18.0->streamlit-authenticator) (0.13.0)\n",
            "Requirement already satisfied: mdurl~=0.1 in /usr/local/lib/python3.10/dist-packages (from markdown-it-py>=2.2.0->rich<14,>=10.14.0->streamlit>=1.18.0->streamlit-authenticator) (0.1.2)\n",
            "Building wheels for collected packages: streamlit-authenticator\n",
            "  Building wheel for streamlit-authenticator (setup.py) ... \u001b[?25l\u001b[?25hdone\n",
            "  Created wheel for streamlit-authenticator: filename=streamlit_authenticator-0.2.3-py3-none-any.whl size=10967 sha256=7a0fda1ae6da24eb322d04ab4e7a7c39353d39cd01ca3994cf99c3f9e26a1e62\n",
            "  Stored in directory: /root/.cache/pip/wheels/fa/eb/54/009e28abdb72f6bab333aff4549375b8c89185ea1d6e034109\n",
            "Successfully built streamlit-authenticator\n",
            "Installing collected packages: bcrypt, extra-streamlit-components, streamlit-authenticator\n",
            "Successfully installed bcrypt-4.1.1 extra-streamlit-components-0.1.60 streamlit-authenticator-0.2.3\n",
            "\u001b[K\u001b[?25h\u001b[37;40mnpm\u001b[0m \u001b[0m\u001b[30;43mWARN\u001b[0m \u001b[0m\u001b[35msaveError\u001b[0m ENOENT: no such file or directory, open '/content/package.json'\n",
            "\u001b[0m\u001b[37;40mnpm\u001b[0m \u001b[0m\u001b[34;40mnotice\u001b[0m\u001b[35m\u001b[0m created a lockfile as package-lock.json. You should commit this file.\n",
            "\u001b[0m\u001b[37;40mnpm\u001b[0m \u001b[0m\u001b[30;43mWARN\u001b[0m \u001b[0m\u001b[35menoent\u001b[0m ENOENT: no such file or directory, open '/content/package.json'\n",
            "\u001b[0m\u001b[37;40mnpm\u001b[0m \u001b[0m\u001b[30;43mWARN\u001b[0m\u001b[35m\u001b[0m content No description\n",
            "\u001b[0m\u001b[37;40mnpm\u001b[0m \u001b[0m\u001b[30;43mWARN\u001b[0m\u001b[35m\u001b[0m content No repository field.\n",
            "\u001b[0m\u001b[37;40mnpm\u001b[0m \u001b[0m\u001b[30;43mWARN\u001b[0m\u001b[35m\u001b[0m content No README data\n",
            "\u001b[0m\u001b[37;40mnpm\u001b[0m \u001b[0m\u001b[30;43mWARN\u001b[0m\u001b[35m\u001b[0m content No license field.\n",
            "\u001b[0m\n",
            "+ localtunnel@2.0.2\n",
            "added 22 packages from 22 contributors and audited 22 packages in 2.17s\n",
            "\n",
            "3 packages are looking for funding\n",
            "  run `npm fund` for details\n",
            "\n",
            "found 1 \u001b[93mmoderate\u001b[0m severity vulnerability\n",
            "  run `npm audit fix` to fix them, or `npm audit` for details\n",
            "\u001b[K\u001b[?25hCollecting googlesearch-python\n",
            "  Downloading googlesearch-python-1.2.3.tar.gz (3.9 kB)\n",
            "  Preparing metadata (setup.py) ... \u001b[?25l\u001b[?25hdone\n",
            "Requirement already satisfied: beautifulsoup4>=4.9 in /usr/local/lib/python3.10/dist-packages (from googlesearch-python) (4.11.2)\n",
            "Requirement already satisfied: requests>=2.20 in /usr/local/lib/python3.10/dist-packages (from googlesearch-python) (2.31.0)\n",
            "Requirement already satisfied: soupsieve>1.2 in /usr/local/lib/python3.10/dist-packages (from beautifulsoup4>=4.9->googlesearch-python) (2.5)\n",
            "Requirement already satisfied: charset-normalizer<4,>=2 in /usr/local/lib/python3.10/dist-packages (from requests>=2.20->googlesearch-python) (3.3.2)\n",
            "Requirement already satisfied: idna<4,>=2.5 in /usr/local/lib/python3.10/dist-packages (from requests>=2.20->googlesearch-python) (3.4)\n",
            "Requirement already satisfied: urllib3<3,>=1.21.1 in /usr/local/lib/python3.10/dist-packages (from requests>=2.20->googlesearch-python) (2.0.7)\n",
            "Requirement already satisfied: certifi>=2017.4.17 in /usr/local/lib/python3.10/dist-packages (from requests>=2.20->googlesearch-python) (2023.7.22)\n",
            "Building wheels for collected packages: googlesearch-python\n",
            "  Building wheel for googlesearch-python (setup.py) ... \u001b[?25l\u001b[?25hdone\n",
            "  Created wheel for googlesearch-python: filename=googlesearch_python-1.2.3-py3-none-any.whl size=4205 sha256=bf0d0a25a8dc523fe2bcb59fffa7ece8a9a3eef39b900cd868065e52f54c5b48\n",
            "  Stored in directory: /root/.cache/pip/wheels/98/24/e9/6c225502948c629b01cc895f86406819281ef0da385f3eb669\n",
            "Successfully built googlesearch-python\n",
            "Installing collected packages: googlesearch-python\n",
            "Successfully installed googlesearch-python-1.2.3\n",
            "Requirement already satisfied: beautifulsoup4 in /usr/local/lib/python3.10/dist-packages (4.11.2)\n",
            "Requirement already satisfied: soupsieve>1.2 in /usr/local/lib/python3.10/dist-packages (from beautifulsoup4) (2.5)\n"
          ]
        }
      ],
      "source": [
        "!pip install -q streamlit\n",
        "!pip install streamlit-authenticator\n",
        "!npm install localtunnel\n",
        "!pip install googlesearch-python\n",
        "!pip install beautifulsoup4"
      ]
    },
    {
      "cell_type": "code",
      "execution_count": 2,
      "metadata": {
        "colab": {
          "base_uri": "https://localhost:8080/"
        },
        "id": "CRAETfA5lh62",
        "outputId": "dfed1284-b679-4ac2-d833-7a505790dfe3"
      },
      "outputs": [
        {
          "output_type": "stream",
          "name": "stdout",
          "text": [
            "Writing app.py\n"
          ]
        }
      ],
      "source": [
        "%%writefile app.py\n",
        "\n",
        "import streamlit as st\n",
        "from googlesearch import search\n",
        "from bs4 import BeautifulSoup\n",
        "import requests\n",
        "# Function to perform Google search and retrieve top links\n",
        "def perform_google_search(query):\n",
        "    links = []\n",
        "    for link in search(query, num_results=20):\n",
        "        links.append(link)\n",
        "        if len(links) == 20:\n",
        "            break\n",
        "    return links\n",
        "# Function to scrape article content using BeautifulSoup\n",
        "def scrape_article_content(url):\n",
        "    response = requests.get(url)\n",
        "    soup = BeautifulSoup(response.content, 'html.parser')\n",
        "    content = soup.get_text()\n",
        "    return content\n",
        "\n",
        "# Function to count keyword occurrences in article content\n",
        "def count_keyword_occurrences(content, keyword):\n",
        "    return content.lower().count(keyword.lower())\n",
        "\n",
        "def categorize_articles(average_count, keyword_count):\n",
        "    if 0 <= keyword_count <= average_count / 2:\n",
        "        colour_code = 'red'\n",
        "    elif average_count / 2 < keyword_count <= average_count:\n",
        "        colour_code = 'orange'\n",
        "    else:\n",
        "        colour_code = 'green'\n",
        "    return colour_code\n",
        "\n",
        "# Function to display article information\n",
        "def display_article_info(keyword_count, title, meta_description, colour_code, link, keyword):\n",
        "    st.write(\n",
        "        f\"\"\"\n",
        "        <div style=\"background-color: {colour_code}; padding: 10px; border-radius: 5px; margin-bottom: 10px;\">\n",
        "            <div style=\"display: flex; align-items: center;\">\n",
        "                <div>\n",
        "                    <p>Keyword: {keyword}</p>\n",
        "                    <p>Keyword Count: {keyword_count}</p>\n",
        "                    <p>Title: <a href={link}>{title}</a></p>\n",
        "                    <p>Meta Description: {meta_description}</p>\n",
        "                </div>\n",
        "            </div>\n",
        "        </div>\n",
        "        \"\"\",\n",
        "        unsafe_allow_html=True\n",
        "    )\n",
        "\n",
        "def display_clue_cards():\n",
        "\n",
        "    html_code = \"\"\"\n",
        "    <div style=\"display: grid; grid-template-columns: auto 1fr; align-items: center; grid-gap: 10px;\">\n",
        "\n",
        "      <div style=\"width: 20px; height: 20px; float: left; background-color: red;\"> </div>\n",
        "      <div style=\"margin-left: 6%;\">\n",
        "        Least number of keywords\n",
        "      </div>\n",
        "\n",
        "      <div style=\"width: 20px; height: 20px; background-color: orange;\"> </div>\n",
        "      <div style=\"margin-left: 6%;\">\n",
        "        Medium number of keywords\n",
        "      </div>\n",
        "\n",
        "      <div style=\"width: 20px; height: 20px; background-color: green;\"> </div>\n",
        "      <div style=\"margin-left: 6%;\">\n",
        "        Highest number of keywords\n",
        "      </div>\n",
        "\n",
        "    </div>\n",
        "    \"\"\"\n",
        "\n",
        "\n",
        "    # Render HTML in Streamlit app\n",
        "    st.markdown(html_code, unsafe_allow_html=True)\n",
        "\n",
        "\n",
        "# Main function to run the Streamlit application\n",
        "def main():\n",
        "    st.title(\"Article Search\")\n",
        "    blog_content = st.text_area(\"Enter Blog Content\")\n",
        "    keywords = [each.strip() for each in st.text_input(\"Enter Keyword\").split(',')]\n",
        "    if st.button(\"Search\"):\n",
        "        links = perform_google_search(blog_content)\n",
        "        cnt = 0\n",
        "        output = {}\n",
        "        counts = {}\n",
        "        # Iterate through the links and scrape the article content\n",
        "        for link in links:\n",
        "            try:\n",
        "              content = scrape_article_content(link)\n",
        "              soup = BeautifulSoup(requests.get(link).content, 'html.parser')\n",
        "              title = soup.title.string if soup.title else \"\"\n",
        "              meta_description_tag = soup.find('meta', attrs={'name': 'description'})\n",
        "              meta_description = meta_description_tag['content'] if meta_description_tag and 'content' in meta_description_tag.attrs else \"\"\n",
        "              for keyword in keywords:\n",
        "                  if ('been blocked' not in content) and ('unable to access' not in content) and ('Please enable cookies' not in content) and ('403 Forbidden' not in content)  and ('502 Server Error' not in content) and ('Just a moment' not in title) and ('Access Denied' not in title) and (title != ''):\n",
        "                      keyword_count = count_keyword_occurrences(content, keyword)\n",
        "                      if keyword in counts:\n",
        "                          counts[keyword].append(count_keyword_occurrences(content, keyword))\n",
        "                      else:\n",
        "                          counts[keyword] = [count_keyword_occurrences(content, keyword)]\n",
        "\n",
        "                      if link not in output:\n",
        "                          output[link] = [{'title': title, 'meta_description': meta_description, 'content': content, 'keyword':keyword, 'keyword_count':keyword_count}]\n",
        "                      else:\n",
        "                          output[link].append({'title': title, 'meta_description': meta_description, 'content': content, 'keyword':keyword, 'keyword_count':keyword_count})\n",
        "              if cnt >= 10:\n",
        "                  break\n",
        "              cnt += 1\n",
        "            except Exception as e:\n",
        "                pass\n",
        "        # Calculate the average keyword count for each keyword\n",
        "        average_count = {}\n",
        "        for keyword in keywords:\n",
        "            average_count[keyword] = sum(counts[keyword]) / len(counts[keyword])\n",
        "        display_clue_cards()\n",
        "        st.write(\"These are the top 10 articles along with the frequency of the keyword for the given blog content\")\n",
        "        # Iterate through the links and print the results\n",
        "        for link in links:\n",
        "            if link in output:\n",
        "                for i in range(len(keywords)):\n",
        "                    colour_code = categorize_articles(average_count[keywords[i]], output[link][i]['keyword_count'])\n",
        "                    title = output[link][i]['title']\n",
        "                    meta_description = output[link][i]['meta_description']\n",
        "                    keyword = output[link][i]['keyword']\n",
        "                    keyword_count = output[link][i]['keyword_count']\n",
        "\n",
        "\n",
        "                    display_article_info(keyword_count, title, meta_description, colour_code, link, keyword)\n",
        "\n",
        "\n",
        "if __name__ == \"__main__\":\n",
        "    main()"
      ]
    },
    {
      "cell_type": "code",
      "execution_count": 3,
      "metadata": {
        "colab": {
          "base_uri": "https://localhost:8080/"
        },
        "id": "0zyyAJpmlhjL",
        "outputId": "2aed1f62-a2a5-4366-d868-bf904d0c39c7"
      },
      "outputs": [
        {
          "output_type": "stream",
          "name": "stdout",
          "text": [
            "Password/Enpoint IP for localtunnel is: 34.148.71.197\n"
          ]
        }
      ],
      "source": [
        "import urllib\n",
        "print(\"Password/Enpoint IP for localtunnel is:\",urllib.request.urlopen('https://ipv4.icanhazip.com').read().decode('utf8').strip(\"\\n\"))"
      ]
    },
    {
      "cell_type": "code",
      "execution_count": 4,
      "metadata": {
        "id": "Sbgl65VYlk24"
      },
      "outputs": [],
      "source": [
        "!streamlit run app.py --logger.level=debug &>/content/logs.txt &"
      ]
    },
    {
      "cell_type": "code",
      "execution_count": 5,
      "metadata": {
        "colab": {
          "base_uri": "https://localhost:8080/"
        },
        "id": "4dzqoJ91loEl",
        "outputId": "3b4993d8-6bef-47c2-d7e3-893d700bb84f"
      },
      "outputs": [
        {
          "output_type": "stream",
          "name": "stdout",
          "text": [
            "\u001b[K\u001b[?25hnpx: installed 22 in 3.389s\n",
            "your url is: https://bumpy-tools-worry.loca.lt\n",
            "^C\n"
          ]
        }
      ],
      "source": [
        "!npx localtunnel --port 8501"
      ]
    }
  ],
  "metadata": {
    "colab": {
      "provenance": []
    },
    "kernelspec": {
      "display_name": "Python 3",
      "name": "python3"
    },
    "language_info": {
      "name": "python"
    }
  },
  "nbformat": 4,
  "nbformat_minor": 0
}